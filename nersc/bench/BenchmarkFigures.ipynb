{
 "cells": [
  {
   "cell_type": "code",
   "execution_count": null,
   "metadata": {
    "collapsed": false
   },
   "outputs": [],
   "source": [
    "%pylab inline"
   ]
  },
  {
   "cell_type": "code",
   "execution_count": null,
   "metadata": {
    "collapsed": false
   },
   "outputs": [],
   "source": [
    "import numpy\n",
    "\n",
    "def read_log(np, base):\n",
    "    fn = '%s.%d' % (base, np)\n",
    "    lines = []\n",
    "    for line in open(fn).readlines():\n",
    "        if line[0] != '[': continue\n",
    "        lines.append(line.split()[1])\n",
    "        \n",
    "    t = numpy.loadtxt(lines)\n",
    "    return t\n",
    "nps = [1, 2, 4, 8, 16, 32, 64, 128, 256]\n",
    "conv = numpy.vstack(read_log(np, base='./convpower-bench') for np in nps).T\n"
   ]
  },
  {
   "cell_type": "code",
   "execution_count": null,
   "metadata": {
    "collapsed": false
   },
   "outputs": [],
   "source": [
    "conv.shape"
   ]
  },
  {
   "cell_type": "code",
   "execution_count": null,
   "metadata": {
    "collapsed": false
   },
   "outputs": [],
   "source": [
    "figure(figsize=(5, 4), dpi=200)\n",
    "plot(nps, conv[-1], 'o', label='Total')\n",
    "plot(nps, conv[24], 'd', label='Painting')\n",
    "plot(nps, conv[-1] - conv[24], 's', label='FFT')\n",
    "grid()\n",
    "annotate(\"Node Boundary\", xy=(32., 200.), xytext=(32., 800.),\n",
    "    arrowprops=dict(arrowstyle=\"->\"), ha='center', va='center')\n",
    "loglog()\n",
    "legend()\n",
    "xlabel('Number of Cores/Ranks')\n",
    "ylabel('Wallclock Time')\n",
    "savefig(\"convpower-scaling.pdf\")"
   ]
  },
  {
   "cell_type": "code",
   "execution_count": null,
   "metadata": {
    "collapsed": false
   },
   "outputs": [],
   "source": [
    "nps_emu = [2, 4, 8, 16, 32, 64, 128, 256, 512]\n",
    "emu = numpy.vstack(read_log(np, base='./emu-bench') for np in nps_emu).T\n"
   ]
  },
  {
   "cell_type": "code",
   "execution_count": null,
   "metadata": {
    "collapsed": false
   },
   "outputs": [],
   "source": [
    "figure(figsize=(5, 4), dpi=200)\n",
    "plot(nps_emu, emu[-1], 'o', label='Total')\n",
    "plot(nps_emu, emu[0], 'd', label='Simulation')\n",
    "plot(nps_emu, emu[3] - emu[0], 's', label='Halo Finder')\n",
    "plot(nps_emu, emu[-1] - emu[3], '^', label='Post-Processing')\n",
    "grid()\n",
    "annotate(\"Node Boundary\", xy=(32., 200.), xytext=(32., 800.),\n",
    "    arrowprops=dict(arrowstyle=\"->\"), ha='center', va='center')\n",
    "loglog()\n",
    "legend(loc='lower left')\n",
    "xlabel('Number of Cores/Ranks')\n",
    "ylabel('Wallclock Time')\n",
    "savefig(\"emu-scaling.pdf\")"
   ]
  },
  {
   "cell_type": "code",
   "execution_count": null,
   "metadata": {
    "collapsed": true
   },
   "outputs": [],
   "source": []
  }
 ],
 "metadata": {
  "anaconda-cloud": {},
  "kernelspec": {
   "display_name": "Python [bccp]",
   "language": "python",
   "name": "Python [bccp]"
  },
  "language_info": {
   "codemirror_mode": {
    "name": "ipython",
    "version": 3
   },
   "file_extension": ".py",
   "mimetype": "text/x-python",
   "name": "python",
   "nbconvert_exporter": "python",
   "pygments_lexer": "ipython3",
   "version": "3.5.4"
  }
 },
 "nbformat": 4,
 "nbformat_minor": 0
}
